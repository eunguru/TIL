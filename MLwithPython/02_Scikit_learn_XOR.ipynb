{
 "cells": [
  {
   "cell_type": "markdown",
   "metadata": {},
   "source": [
    "# Scikit-learn 소개"
   ]
  },
  {
   "cell_type": "markdown",
   "metadata": {},
   "source": [
    "- 파이썬 머신러닝 라이브러리\n",
    "    - 분류, 클러스터링, 추천, 회귀, 차원 축소 등의 알고리즘, 샘플 데이터를 지원\n",
    "- Scikit-learn, scipy, matplotlib, pandas, numpy등 미리 설치 필요"
   ]
  },
  {
   "cell_type": "markdown",
   "metadata": {},
   "source": [
    "### 1. XOR 예제를 수동으로 구현하기"
   ]
  },
  {
   "cell_type": "markdown",
   "metadata": {},
   "source": [
    "|p|q|res|\n",
    "|:-:|:-:|:-:|\n",
    "|0|0|0|\n",
    "|0|1|1|\n",
    "|1|0|1|\n",
    "|1|1|0|"
   ]
  },
  {
   "cell_type": "code",
   "execution_count": 7,
   "metadata": {},
   "outputs": [
    {
     "name": "stdout",
     "output_type": "stream",
     "text": [
      "training_data: [[0, 0], [0, 1], [1, 0], [1, 1]]\n",
      "lable: [0, 1, 1, 0]\n",
      "predicted result: [0 1 1 0]\n",
      "ok:4 total:4 accuracy:1.0\n"
     ]
    }
   ],
   "source": [
    "# 라이브러리 로딩\n",
    "from sklearn import svm\n",
    "\n",
    "# 데이터 준비: [p, q, res]\n",
    "xor_data = [\n",
    "    [0, 0, 0],\n",
    "    [0, 1, 1],\n",
    "    [1, 0, 1],\n",
    "    [1, 1, 0]\n",
    "]\n",
    "\n",
    "# 주어진 데이터를 학습데이터와 레이블로 분리\n",
    "training_data = []\n",
    "lable = []\n",
    "\n",
    "for row in xor_data:\n",
    "    p = row[0]\n",
    "    q = row[1]\n",
    "    res = row[2]\n",
    "    \n",
    "    training_data.append([p, q])\n",
    "    lable.append(res)\n",
    "    \n",
    "print(\"training_data:\", training_data)\n",
    "print(\"lable:\", lable)\n",
    "\n",
    "# SVM(Support Vector Machine) 알고리즘: 분류, 회귀 모두 가능\n",
    "# SVM 알고리즘을 이용하여 분류에 사용하는 머신러닝 객체를 만듦\n",
    "clf = svm.SVC()\n",
    "\n",
    "# fit(): 학습 기계에 데이터를 학습시킴\n",
    "clf.fit(training_data, lable)\n",
    "\n",
    "# predict(): 학습 데이터를 이용한 예측\n",
    "pre = clf.predict(training_data)\n",
    "print(\"predicted result:\", pre)\n",
    "\n",
    "# 정확도 측정\n",
    "ok = 0\n",
    "total = 0\n",
    "\n",
    "for idx, answer in enumerate(lable):\n",
    "    p = pre[idx]\n",
    "    if p == answer:\n",
    "        ok += 1\n",
    "    total += 1\n",
    "\n",
    "print(\"ok:{0} total:{1} accuracy:{2}\".format(ok, total, ok/total))"
   ]
  },
  {
   "cell_type": "markdown",
   "metadata": {},
   "source": [
    "### 2. XOR 예제 Sckit-learn을 이용하여 구현하기"
   ]
  },
  {
   "cell_type": "code",
   "execution_count": 18,
   "metadata": {},
   "outputs": [
    {
     "name": "stdout",
     "output_type": "stream",
     "text": [
      "Accuracy: 1.0\n"
     ]
    }
   ],
   "source": [
    "import pandas as pd\n",
    "from sklearn import svm, metrics\n",
    "\n",
    "# XOR 연산 데이터\n",
    "inputData = [\n",
    "    [0, 0, 0],\n",
    "    [0, 1, 1],\n",
    "    [1, 0, 1],\n",
    "    [1, 1, 0]\n",
    "]\n",
    "\n",
    "xor_df = pd.DataFrame(inputData)\n",
    "\n",
    "# 학습데이터와 레이블을 분리\n",
    "training_data = xor_df.loc[:, 0:1]\n",
    "lable = xor_df.loc[:, 2]\n",
    "\n",
    "# 머신러닝 객체 만들기\n",
    "clf = svm.SVC()\n",
    "\n",
    "# 데이터의 학습과 예측\n",
    "clf.fit(training_data, lable)\n",
    "pre = clf.predict(training_data)\n",
    "\n",
    "# 정확도 측정(정답률 확인)\n",
    "# Metrics 모듈에 accuracy_score() 함수를 이용하면 성공율을 구할 수 있음\n",
    "accuracy = metrics.accuracy_score(lable, pre)\n",
    "print(\"Accuracy:\", accuracy)"
   ]
  }
 ],
 "metadata": {
  "kernelspec": {
   "display_name": "testall",
   "language": "Python",
   "name": "testall"
  },
  "language_info": {
   "codemirror_mode": {
    "name": "ipython",
    "version": 3
   },
   "file_extension": ".py",
   "mimetype": "text/x-python",
   "name": "python",
   "nbconvert_exporter": "python",
   "pygments_lexer": "ipython3",
   "version": "3.6.1"
  }
 },
 "nbformat": 4,
 "nbformat_minor": 2
}
