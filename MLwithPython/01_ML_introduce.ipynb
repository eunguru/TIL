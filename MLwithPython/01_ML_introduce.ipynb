{
 "cells": [
  {
   "cell_type": "markdown",
   "metadata": {},
   "source": [
    "# 인공지능과 머신러닝"
   ]
  },
  {
   "cell_type": "markdown",
   "metadata": {},
   "source": [
    "- 인공지능: 인공적으로 만든 지능, 지능(문제를 해결할 수 있는 능력) 작업을 수행할 수 있는 기계의 능력\n",
    "- 머신러닝은 인공지능을 구현하기 위한 하나의 방법\n",
    "- 지식을 구현하기 위한 두가지 대립적 방법\n",
    "    - 지식공학: 지식을 사람이 직접 컴퓨터에게 제공(Top-down 방식)\n",
    "    - 머신러닝: 데이터를 가지고 컴퓨터가 지식을 직접학습히여 얻어내는 방식(경험주의자적인 학습, Bottom-up 방식) "
   ]
  },
  {
   "cell_type": "markdown",
   "metadata": {},
   "source": [
    "# 머신러닝 개요"
   ]
  },
  {
   "cell_type": "markdown",
   "metadata": {},
   "source": [
    "### 1. 머신러닝"
   ]
  },
  {
   "cell_type": "markdown",
   "metadata": {},
   "source": [
    "- 명시적으로 프로그래밍을 하지 않고도 컴퓨터가 학습할 수 있는 능력을 갖게 하는 것(입력: 데이터, 결과값, 출력: 프로그램)\n",
    "    - 데이터 마이닝\n",
    "    - 수작업으로 할 수 없는 것들\n",
    "    - 추천 알고리즘"
   ]
  },
  {
   "cell_type": "markdown",
   "metadata": {},
   "source": [
    "#### 1) 머신러닝 알고리즘 분류"
   ]
  },
  {
   "cell_type": "markdown",
   "metadata": {},
   "source": [
    "- 지도(교사)학습(Supervised Learning): 학습 데이터마다 레이블을 가지고 있음\n",
    "- 비지도학습(UnSupervised Learning): 학습 데이터가 레이블을 가지고 있지 않음, clustering이 대표적\n",
    "- 준지도학습(Semi-Supervised Learning): 학습 데이터가 약간의 레이블을 가지고 있음\n",
    "- 강화학습(Reinforcement Learning): 최종 출력이 바로 주어지지 않고 시간이 지나서 주어지는 경우\n",
    "    - FinalOutCome, Agent, Action, State, Reward"
   ]
  },
  {
   "cell_type": "markdown",
   "metadata": {},
   "source": [
    "#### 2) 머신러닝의 구성요소"
   ]
  },
  {
   "cell_type": "markdown",
   "metadata": {},
   "source": [
    "- 머신러닝: 데이터를 이용한 모델링 기법\n",
    "- 데이터 준비\n",
    "    - 훈련(학습)데이터\n",
    "    - 검증데이터\n",
    "    - 테스트데이터\n",
    "- 모델 표현 방법\n",
    "    - 의사결정 트리(기호주의, 귀납적 추론, 철학과 심리학, 논리학에서 아이디어를 얻음)\n",
    "    - 신경망 기반(연결주의, 두뇌를 분석하고 모방하여 신경과학과 물리학에서 아이디어를 얻음)\n",
    "    - KNN, 서포트벡터머신(유추주의 알고리즘, 유사성을 근거로 추정하면서 학습, 심리학, 수학에서 아이디어를 얻음)\n",
    "    - 베이지안모델(학습을 확률 추론의 한 형태로 하며, 통계학의 뿌리를 둔 모델)\n",
    "    - 유전알고리즘(진화주의, 유전학과 진화 생물학에 근거를 둠)\n",
    "    - 모델 앙상블(알고리즘을 조합한 형태)\n",
    "- 모델 평가방법: 상활에 맞는 평가 방법 선택\n",
    "    - 에러의 제곱\n",
    "    - 정확도\n",
    "    - 우도(가능도)\n",
    "    - 정밀도와 재현률\n",
    "    - 엔트로피"
   ]
  },
  {
   "cell_type": "markdown",
   "metadata": {},
   "source": [
    "#### 3) 머신러닝의 응용 분야"
   ]
  },
  {
   "cell_type": "markdown",
   "metadata": {},
   "source": [
    "- 분류(Classification)\n",
    "    - 특정 데이터에 레이블을 붙여 분류할 수 있음\n",
    "- 군집화(Clustering)\n",
    "    - 값의 유사성을 기반으로 데이터를 여러 그룹으로 나누는 것\n",
    "    - 비지도 학습에 해당\n",
    "- 추천(Recommendation)\n",
    "    - 특정 데이터를 기반으로 하여 다른 데이터를 추천하는 것\n",
    "- 회귀(Regression)\n",
    "    - 과거의 데이터를 기반으로 하여 미래의 데이터를 예측하는 것\n",
    "- 차원축소\n",
    "    - 데이터의 특성을 유지하면서 데이텅늬 양을 줄여주는 것, 데이터 시각화, 데이터 구조 파악을 위해 사용\n",
    "    - 비지도 학습에 해당"
   ]
  }
 ],
 "metadata": {
  "kernelspec": {
   "display_name": "testall",
   "language": "Python",
   "name": "testall"
  },
  "language_info": {
   "codemirror_mode": {
    "name": "ipython",
    "version": 3
   },
   "file_extension": ".py",
   "mimetype": "text/x-python",
   "name": "python",
   "nbconvert_exporter": "python",
   "pygments_lexer": "ipython3",
   "version": "3.6.1"
  }
 },
 "nbformat": 4,
 "nbformat_minor": 2
}
